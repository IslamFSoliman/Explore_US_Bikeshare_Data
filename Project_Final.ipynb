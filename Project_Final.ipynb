{
 "cells": [
  {
   "cell_type": "markdown",
   "metadata": {},
   "source": [
    "# Explore US BikeShare Data\n",
    "## (Udacity Data Scintist Nano-Degree Project)\n",
    "\n",
    "## Overview\n",
    "\n",
    "I make use of Python to explore data related to bike share systems for three major cities in the United States—Chicago, New York City, and Washington. I wrote a code to import the data and answer interesting questions about it by computing descriptive statistics. I also wrote a script that takes in raw input to create an interactive experience in the terminal to present these statistics to the user."
   ]
  },
  {
   "cell_type": "markdown",
   "metadata": {},
   "source": [
    "First I imported time, NumPy, and pandas packages to use"
   ]
  },
  {
   "cell_type": "code",
   "execution_count": null,
   "metadata": {},
   "outputs": [],
   "source": [
    "import time\n",
    "import pandas as pd\n",
    "import numpy as np"
   ]
  },
  {
   "cell_type": "markdown",
   "metadata": {},
   "source": [
    "CITY_DATA dictionary includes all city names and csv file values for it, the same will be used throught the program."
   ]
  },
  {
   "cell_type": "code",
   "execution_count": null,
   "metadata": {},
   "outputs": [],
   "source": [
    "CITY_DATA = {'chicago': 'chicago.csv',\n",
    "            'new york city': 'new_york_city.csv',\n",
    "            'washington': 'washington.csv'}"
   ]
  },
  {
   "cell_type": "markdown",
   "metadata": {},
   "source": [
    "Function (1): get_filters() request and validate user inputs for (city, month, day) and returns the same to be used as arguments in producing the DataFrame in the next function."
   ]
  },
  {
   "cell_type": "code",
   "execution_count": null,
   "metadata": {},
   "outputs": [],
   "source": [
    "def get_filters():\n",
    "    \"\"\"\n",
    "    Asks user to specify a city, month, and day to analyze.\n",
    "    Returns:\n",
    "        (str) city - name of the city to analyze\n",
    "        (str) month - name of the month to filter by, or \"all\" to apply no month filter\n",
    "        (str) day - name of the day of week to filter by, or \"all\" to apply no day filter\n",
    "    \"\"\"\n",
    "    print('Hello! Let\\'s explore some US bikeshare data!')\n",
    "\n",
    "    # While loop to validate and return the user input ensuring the correct city name was entered to break\n",
    "    while True:\n",
    "        city = input(\n",
    "                    \"Please choose one of these cities to explore: Chicago, New York City, or Washington:\\n\"\n",
    "                    ).lower()\n",
    "        if city not in CITY_DATA:\n",
    "            print(\"\\nCity not found!\")\n",
    "            continue  \n",
    "        else:\n",
    "            print(\n",
    "                f\"\\nYou have chosen to explore {city.title()}.\"\n",
    "                )\n",
    "            break\n",
    "    # While loops validating user input for filtering by month and day. Each loop validate month and day inputs, invalid inputs will restart the loop.\n",
    "    while True:\n",
    "        month = input(\n",
    "                     \"Please choose a month from:\\nJanuary, Feburary, March, April, May, June, or type 'all' to explore all monthly data\\n\"\n",
    "                     ).lower()\n",
    "        month_list = [\"january\", \"february\", \"march\", \"april\", \"may\", \"june\", \"all\"]\n",
    "        if month != 'all' and month not in month_list:\n",
    "            print(\"\\nInvalid Input!\\n\")\n",
    "            continue\n",
    "        else:\n",
    "            print(\n",
    "                 f\"\\nYou have chosen to explore {month.title()} from monthly data.\"\n",
    "                 )\n",
    "            break\n",
    "         \n",
    "    while True:\n",
    "        day = input(\n",
    "                   \"Please choose a weekday, or type 'all' to explore all daily data\\n\"\n",
    "                   ).lower()\n",
    "        days_list = [\"monday\", \"tuesday\", \"wednesday\", \"thursday\", \"friday\", \"saturday\", \"sunday\", \"all\"]\n",
    "        if day != 'all' and day not in days_list:\n",
    "            print(\"\\nInvalid Input!\\n\")\n",
    "            continue\n",
    "        else:\n",
    "            print(f\"\\nYou have chosen {day.title()} to explore daily data.\")\n",
    "            break\n",
    "\n",
    "    print('-'*40)\n",
    "    return city, month, day"
   ]
  },
  {
   "cell_type": "markdown",
   "metadata": {},
   "source": [
    "Function (2): load_data() takes the three arguments (city, month, day) returned from the previous function and produce a DataFrame to be used by the rest of the remaining functions."
   ]
  },
  {
   "cell_type": "code",
   "execution_count": null,
   "metadata": {},
   "outputs": [],
   "source": [
    "def load_data(city, month, day):\n",
    "    \"\"\"\n",
    "    Loads data for the specified city and filters by month and day if applicable.\n",
    "    Args:\n",
    "        (str) city - name of the city to analyze\n",
    "        (str) month - name of the month to filter by, or \"all\" to apply no month filter\n",
    "        (str) day - name of the day of week to filter by, or \"all\" to apply no day filter\n",
    "    Returns:\n",
    "        df - Pandas DataFrame containing city data filtered by month and day\n",
    "    \"\"\"\n",
    "    print(\"Data is being prepared!\")\n",
    "\n",
    "    df = pd.read_csv(CITY_DATA[city])\n",
    "    # Converting [Start Time] column to DateTime\n",
    "    df['Start Time'] = pd.to_datetime(df['Start Time'])\n",
    "    # Creating [Month] and [Day] columns from [Start Time] column data.\n",
    "    df['Start_Month'] = df['Start Time'].dt.month\n",
    "    df['Start_Day'] = df['Start Time'].dt.day_name()\n",
    "    # Validating month filter if specified \n",
    "    if month != 'all':\n",
    "        # Use index of month +1 to get the correct month number\n",
    "        months = [\"january\", \"february\", \"march\", \"april\", \"may\", \"june\"]\n",
    "        month = months.index(month) + 1\n",
    "        # Create a new df filtered by month\n",
    "        df = df[df['Start_Month'] == month]\n",
    "    # Validating day filter if specified    \n",
    "    if day != 'all':\n",
    "        # Create a new df filtered by day\n",
    "        df = df[df['Start_Day'] == day.title()]\n",
    "    \n",
    "    print('-'*40)\n",
    "    return df"
   ]
  },
  {
   "cell_type": "markdown",
   "metadata": {},
   "source": [
    "Function (3): time_stats() it takes the DF returned from the second function and return the following stats to the user,\\\n",
    "•\tmost common month\\\n",
    "•\tmost common day of week\\\n",
    "•\tmost common hour of day"
   ]
  },
  {
   "cell_type": "code",
   "execution_count": null,
   "metadata": {},
   "outputs": [],
   "source": [
    "def time_stats(df):\n",
    "    \"\"\"Displays statistics on the most frequent times of travel.\"\"\"\n",
    "\n",
    "    print('\\nCalculating The Most Frequent Times of Travel...\\n')\n",
    "    start_time = time.time()\n",
    "\n",
    "    # Returning the most common/popular month.\n",
    "    common_month = df['Start_Month'].mode()[0]\n",
    "    print(f\"Most popular month is: {common_month}\")\n",
    "\n",
    "    # Returning the most common/popular day.\n",
    "    common_day = df['Start_Day'].mode()[0]\n",
    "    print(f\"Most popular day is: {common_day}\")\n",
    "    \n",
    "    # Returning the most common/popular starting hour based on user input.\n",
    "    df['hour'] = df['Start Time'].dt.hour\n",
    "    popular_hour = df['hour'].mode()[0]\n",
    "    print(f\"Most popular hour is: {popular_hour}:00 HRS\")\n",
    "\n",
    "    print(\"\\nThis took %s seconds.\" % (time.time() - start_time))\n",
    "    print('-'*40)"
   ]
  },
  {
   "cell_type": "markdown",
   "metadata": {},
   "source": [
    "Function (4): station_stats() takes the DF returned from the second function and return the following stats to the user,\\\n",
    "•\tmost common start station\\\n",
    "•\tmost common end station\\\n",
    "•\tmost common trip from start to end (i.e., most frequent combination of start station and end station)"
   ]
  },
  {
   "cell_type": "code",
   "execution_count": null,
   "metadata": {},
   "outputs": [],
   "source": [
    "def station_stats(df):\n",
    "    \"\"\"Displays statistics on the most popular stations and trip.\"\"\"\n",
    "\n",
    "    print('\\nCalculating The Most Popular Stations and Trip...\\n')\n",
    "    start_time = time.time()\n",
    "\n",
    "    # Aggregatin the most common/popular starting station from [Start Station] column.\n",
    "    most_popular_start_station = df['Start Station'].mode()[0]\n",
    "    print(f\"Most popular starting station is: {most_popular_start_station}\")\n",
    "    \n",
    "    # Aggregatin the most common/popular ending station from [End Station] column.\n",
    "    most_popular_end_station = df['End Station'].mode()[0]\n",
    "    print(f\"Most popular End station is: {most_popular_end_station}\")\n",
    "    \n",
    "    # Display most frequent combination of start station and end station by combining them and extracting the mode of the new df.\n",
    "    df['combination'] = df['Start Station'] + ' AND ' + df['End Station']\n",
    "    most_frequent_start_and_end_stations = df['combination'].mode()[0]\n",
    "    print(\n",
    "         f\"Most frequent start station and end stations are: {most_frequent_start_and_end_stations}\"\n",
    "         )\n",
    "\n",
    "    print(\"\\nThis took %s seconds.\" % (time.time() - start_time))\n",
    "    print('-'*40)"
   ]
  },
  {
   "cell_type": "markdown",
   "metadata": {},
   "source": [
    "Function (5): trip_duration_stats() takes the DF returned from the second function and return the following stats to the user,\\\n",
    "•\ttotal travel time\\\n",
    "•\taverage travel time"
   ]
  },
  {
   "cell_type": "code",
   "execution_count": null,
   "metadata": {},
   "outputs": [],
   "source": [
    "def trip_duration_stats(df):\n",
    "    \"\"\"Displays statistics on the total and average trip duration.\"\"\"\n",
    "\n",
    "    print('\\nCalculating Trip Duration...\\n')\n",
    "    start_time = time.time()\n",
    "\n",
    "    # Calculating the total travel time from [Trip Duration] column\n",
    "    total_travel_time = df['Trip Duration'].sum()\n",
    "    print(f\"Total travel time in secounds is: {total_travel_time}, \\\n",
    "    and in hours: {total_travel_time/3600}\")\n",
    "\n",
    "    # Calculating the average travel time\n",
    "    average_travel_time = df['Trip Duration'].mean()\n",
    "    print(f\"Average travel time in secounds is: {average_travel_time}, \\\n",
    "        and in hours: {average_travel_time/3600}\")\n",
    "\n",
    "    print(\"\\nThis took %s seconds.\" % (time.time() - start_time))\n",
    "    print('-'*40)"
   ]
  },
  {
   "cell_type": "markdown",
   "metadata": {},
   "source": [
    "Function (6): user_stats() takes the DF returned from the second function and return the following stats to the user,\\\n",
    "•\tcounts of each user type\\\n",
    "•\tcounts of each gender (only available for NYC and Chicago)\\\n",
    "•\tearliest, most recent, most common year of birth (only available for NYC and Chicago)"
   ]
  },
  {
   "cell_type": "code",
   "execution_count": null,
   "metadata": {},
   "outputs": [],
   "source": [
    "def user_stats(df):\n",
    "    \"\"\"Displays statistics on bikeshare users.\"\"\"\n",
    "\n",
    "    print('\\nCalculating User Stats...\\n')\n",
    "    start_time = time.time()\n",
    "\n",
    "    # Extracting the counts of user types from [User Type] column\n",
    "    print(\"User Types are:\\n\", df['User Type'].value_counts())\n",
    "\n",
    "    # Extracting gender count from [Gender] column if available in DF\n",
    "    if 'Gender' in df:\n",
    "        print(f\"User genders count are:\\n\", df['Gender'].value_counts())\n",
    "\n",
    "    # Extracting earliest, most recent, and most common year of birth conditioned if [Birth Year] column available\n",
    "    if 'Birth Year' in df:\n",
    "            earliest_birth_year = int(df['Birth Year'].min())\n",
    "            print(f\"Earliest birth year is: {earliest_birth_year}\")\n",
    "\n",
    "            recent_birth_year = int(df['Birth Year'].max())\n",
    "            print(f\"Most recent birth year is: {recent_birth_year}\")\n",
    "\n",
    "            common_birth_year = int(df['Birth Year'].mode()[0])\n",
    "            print(f\"Most common birth year is: {common_birth_year}\")\n",
    "\n",
    "    print(\"\\nThis took %s seconds.\" % (time.time() - start_time))\n",
    "    print('-'*40)"
   ]
  },
  {
   "cell_type": "markdown",
   "metadata": {},
   "source": [
    "Function (7): show_raw_data() takes the DF returned from the second function and return the first 5 rows of data to the user and request if the user still requires to view 5 more rows or break."
   ]
  },
  {
   "cell_type": "code",
   "execution_count": null,
   "metadata": {},
   "outputs": [],
   "source": [
    "def show_raw_data(df):\n",
    "    \"\"\"Return sudsequent rows from DataFrame based of user answer\n",
    "    Args:\n",
    "    df - Pandas DataFrame containing city data filtered by month and day from load_data()\n",
    "    \"\"\"\n",
    "    display_rows = 0\n",
    "    answer = input(\"Would you like to view first 5 rows of data? [Yes/No]:\\n\").lower()\n",
    "    # Validating user input using while loop\n",
    "    while True:\n",
    "        if answer == 'no':\n",
    "            break\n",
    "        print(df[display_rows:display_rows + 5])\n",
    "        answer = input(\"Would you like to view next 5 rows of data? [Yes/No]:\\n\").lower()\n",
    "        display_rows += 5"
   ]
  },
  {
   "cell_type": "markdown",
   "metadata": {},
   "source": [
    "Main function to validate and controlling the flow of all above functions in sequenced manner."
   ]
  },
  {
   "cell_type": "code",
   "execution_count": 1,
   "metadata": {},
   "outputs": [
    {
     "name": "stdout",
     "output_type": "stream",
     "text": [
      "Hello! Let's explore some US bikeshare data!\n",
      "Write a city name: Chicago, New York City or Washington!new york city\n",
      "Do you want to filter as month, day, all or none?all\n",
      "Which month? January, Feburary, March, April, May or June?june\n",
      "Which day? Monday, Tuesday, Wednesday, Thursday, Friday, Saturday or Sundaysunday\n",
      "new york city\n",
      "june\n",
      "sunday\n",
      "----------------------------------------\n",
      "\n",
      "Calculating The Most Frequent Times of Travel...\n",
      "\n",
      "6\n",
      "Sunday\n",
      "17\n",
      "\n",
      "This took 0.07598376274108887 seconds.\n",
      "----------------------------------------\n",
      "\n",
      "Calculating The Most Popular Stations and Trip...\n",
      "\n",
      "West St & Chambers St\n",
      "12 Ave & W 40 St\n",
      "Yankee Ferry Terminal to Yankee Ferry Terminal\n",
      "\n",
      "This took 0.008941411972045898 seconds.\n",
      "----------------------------------------\n",
      "\n",
      "Calculating Trip Duration...\n",
      "\n",
      "10750528\n",
      "1252.0996971814582\n",
      "\n",
      "This took 0.006983518600463867 seconds.\n",
      "----------------------------------------\n",
      "\n",
      "Calculating User Stats...\n",
      "\n",
      "Subscriber    6637\n",
      "Customer      1949\n",
      "Name: User Type, dtype: int64\n",
      "Male      4785\n",
      "Female    2036\n",
      "Name: Gender, dtype: int64\n",
      "There is no birth year information in this city.\n",
      "\n",
      "This took 0.025930166244506836 seconds.\n",
      "----------------------------------------\n",
      "Do you want to see the raw data? Yes or Noyes\n",
      "     Unnamed: 0          Start Time             End Time  Trip Duration  \\\n",
      "219     5309535 2017-06-04 19:22:44  2017-06-04 19:28:31            347   \n",
      "224     6451583 2017-06-25 10:17:15  2017-06-25 10:40:24           1388   \n",
      "232     6054143 2017-06-18 09:10:14  2017-06-18 09:12:47            152   \n",
      "267     5681294 2017-06-11 13:16:47  2017-06-11 13:21:20            272   \n",
      "323     5292881 2017-06-04 13:01:29  2017-06-04 13:09:29            480   \n",
      "\n",
      "               Start Station               End Station   User Type Gender  \\\n",
      "219         W 56 St & 10 Ave        Broadway & W 56 St  Subscriber   Male   \n",
      "224       S 4 St & Rodney St     Clinton St & Grand St    Customer    NaN   \n",
      "232      Henry St & Grand St     Clinton St & Grand St  Subscriber   Male   \n",
      "267  Mercer St & Bleecker St           E 12 St & 3 Ave  Subscriber   Male   \n",
      "323       E 91 St & Park Ave  Central Park W & W 96 St  Subscriber   Male   \n",
      "\n",
      "     Birth Year  month day_of_week  hour  \\\n",
      "219      1955.0      6      Sunday    19   \n",
      "224         NaN      6      Sunday    10   \n",
      "232      1946.0      6      Sunday     9   \n",
      "267      1966.0      6      Sunday    13   \n",
      "323      1998.0      6      Sunday    13   \n",
      "\n",
      "                                        combination  \n",
      "219          W 56 St & 10 Ave to Broadway & W 56 St  \n",
      "224     S 4 St & Rodney St to Clinton St & Grand St  \n",
      "232    Henry St & Grand St to Clinton St & Grand St  \n",
      "267      Mercer St & Bleecker St to E 12 St & 3 Ave  \n",
      "323  E 91 St & Park Ave to Central Park W & W 96 St  \n",
      "Do you want to see more? Yes or Noyes\n",
      "Do you want to see the raw data? Yes or Nono\n",
      "\n",
      "Would you like to restart? Enter yes or no.\n",
      "no\n"
     ]
    }
   ],
   "source": [
    "def main():\n",
    "    while True:\n",
    "        city, month, day = get_filters()\n",
    "        df = load_data(city, month, day)\n",
    "\n",
    "        time_stats(df)\n",
    "        station_stats(df)\n",
    "        trip_duration_stats(df)\n",
    "        user_stats(df)\n",
    "        show_raw_data(df)\n",
    "\n",
    "        restart = input('\\nWould you like to restart? Enter yes or no.\\n').lower()\n",
    "        if restart != 'yes':\n",
    "            break\n",
    "\n",
    "\n",
    "if __name__ == \"__main__\":\n",
    "\tmain()"
   ]
  },
  {
   "cell_type": "code",
   "execution_count": null,
   "metadata": {},
   "outputs": [],
   "source": []
  }
 ],
 "metadata": {
  "kernelspec": {
   "display_name": "Python 3",
   "language": "python",
   "name": "python3"
  },
  "language_info": {
   "codemirror_mode": {
    "name": "ipython",
    "version": 3
   },
   "file_extension": ".py",
   "mimetype": "text/x-python",
   "name": "python",
   "nbconvert_exporter": "python",
   "pygments_lexer": "ipython3",
   "version": "3.8.5"
  }
 },
 "nbformat": 4,
 "nbformat_minor": 4
}
